{
  "nbformat": 4,
  "nbformat_minor": 0,
  "metadata": {
    "colab": {
      "name": "DL project 17 category flowers AlexNet.ipynb",
      "provenance": [],
      "collapsed_sections": []
    },
    "kernelspec": {
      "name": "python3",
      "display_name": "Python 3"
    },
    "accelerator": "GPU"
  },
  "cells": [
    {
      "cell_type": "markdown",
      "metadata": {
        "id": "2BkC8A-Cd04Q"
      },
      "source": [
        "# Project in the course DD2424 at KTH, using ALEXNET on the 17 category Oxford flower datasets. \n",
        "#Author of the code: Badi Mirzai"
      ]
    },
    {
      "cell_type": "code",
      "metadata": {
        "id": "vsUfxyH9QEwy",
        "colab": {
          "base_uri": "https://localhost:8080/"
        },
        "outputId": "a1769d7f-aa30-4fa3-be1d-78c975ff7d46"
      },
      "source": [
        "!pip install -q -U tensorflow_hub\n",
        "!pip install -q tfds-nightly tensorflow matplotlib"
      ],
      "execution_count": 2,
      "outputs": [
        {
          "output_type": "stream",
          "text": [
            "\u001b[K     |████████████████████████████████| 4.0 MB 5.3 MB/s \n",
            "\u001b[?25h"
          ],
          "name": "stdout"
        }
      ]
    },
    {
      "cell_type": "markdown",
      "metadata": {
        "id": "E_Dgwzdp8EMB"
      },
      "source": [
        "#Install tflearn only for the 17 label images (will mess up for th 102 dataset)\n"
      ]
    },
    {
      "cell_type": "code",
      "metadata": {
        "id": "LWMqA9g78LQF",
        "colab": {
          "base_uri": "https://localhost:8080/"
        },
        "outputId": "2a3636f5-63b5-410b-c9e3-7466d3bb9bdd"
      },
      "source": [
        "!pip install tflearn"
      ],
      "execution_count": 3,
      "outputs": [
        {
          "output_type": "stream",
          "text": [
            "Collecting tflearn\n",
            "  Downloading tflearn-0.5.0.tar.gz (107 kB)\n",
            "\u001b[?25l\r\u001b[K     |███                             | 10 kB 21.7 MB/s eta 0:00:01\r\u001b[K     |██████                          | 20 kB 25.8 MB/s eta 0:00:01\r\u001b[K     |█████████▏                      | 30 kB 13.3 MB/s eta 0:00:01\r\u001b[K     |████████████▏                   | 40 kB 9.9 MB/s eta 0:00:01\r\u001b[K     |███████████████▎                | 51 kB 5.4 MB/s eta 0:00:01\r\u001b[K     |██████████████████▎             | 61 kB 6.0 MB/s eta 0:00:01\r\u001b[K     |█████████████████████▍          | 71 kB 5.8 MB/s eta 0:00:01\r\u001b[K     |████████████████████████▍       | 81 kB 6.5 MB/s eta 0:00:01\r\u001b[K     |███████████████████████████▌    | 92 kB 4.9 MB/s eta 0:00:01\r\u001b[K     |██████████████████████████████▌ | 102 kB 5.4 MB/s eta 0:00:01\r\u001b[K     |████████████████████████████████| 107 kB 5.4 MB/s \n",
            "\u001b[?25hRequirement already satisfied: numpy in /usr/local/lib/python3.7/dist-packages (from tflearn) (1.19.5)\n",
            "Requirement already satisfied: six in /usr/local/lib/python3.7/dist-packages (from tflearn) (1.15.0)\n",
            "Requirement already satisfied: Pillow in /usr/local/lib/python3.7/dist-packages (from tflearn) (7.1.2)\n",
            "Building wheels for collected packages: tflearn\n",
            "  Building wheel for tflearn (setup.py) ... \u001b[?25l\u001b[?25hdone\n",
            "  Created wheel for tflearn: filename=tflearn-0.5.0-py3-none-any.whl size=127299 sha256=d99a00df02b8452146a4d420fbb7d086bb75fbcfc8e0893f22343b503ae46b1c\n",
            "  Stored in directory: /root/.cache/pip/wheels/5f/14/2e/1d8e28cc47a5a931a2fb82438c9e37ef9246cc6a3774520271\n",
            "Successfully built tflearn\n",
            "Installing collected packages: tflearn\n",
            "Successfully installed tflearn-0.5.0\n"
          ],
          "name": "stdout"
        }
      ]
    },
    {
      "cell_type": "code",
      "metadata": {
        "id": "0SX8Q_Z136oq"
      },
      "source": [
        "import tensorflow as tf"
      ],
      "execution_count": 4,
      "outputs": []
    },
    {
      "cell_type": "code",
      "metadata": {
        "id": "LiJMoYcAMbkz",
        "colab": {
          "base_uri": "https://localhost:8080/"
        },
        "outputId": "b7a07094-c713-450a-e2f6-17963f1311a0"
      },
      "source": [
        "import tensorflow as tf # for 102\n",
        "#tf.compat.v1.enable_eager_execution()\n",
        "import matplotlib.pyplot as plt # 102\n",
        "from tensorflow.keras import datasets, layers, models, losses\n",
        "\n",
        "import tflearn.datasets.oxflower17 as oxflower17\n",
        "import tflearn.datasets.cifar100 as cifar100\n",
        "\n",
        "import tensorflow_hub as hub\n",
        "\n",
        "from sklearn.model_selection import train_test_split\n",
        "from keras.preprocessing.image import ImageDataGenerator\n",
        "\n",
        "import tensorflow_datasets as tfds \n",
        "\n",
        "import numpy as np # 102"
      ],
      "execution_count": 5,
      "outputs": [
        {
          "output_type": "stream",
          "text": [
            "WARNING:tensorflow:From /usr/local/lib/python3.7/dist-packages/tensorflow/python/compat/v2_compat.py:101: disable_resource_variables (from tensorflow.python.ops.variable_scope) is deprecated and will be removed in a future version.\n",
            "Instructions for updating:\n",
            "non-resource variables are not supported in the long term\n"
          ],
          "name": "stdout"
        }
      ]
    },
    {
      "cell_type": "markdown",
      "metadata": {
        "id": "oWpd0YDvp9rm"
      },
      "source": [
        "#Import 17 flower category dataset"
      ]
    },
    {
      "cell_type": "code",
      "metadata": {
        "colab": {
          "base_uri": "https://localhost:8080/"
        },
        "id": "6prvle0yQEwT",
        "outputId": "284b7b39-7e1a-4ca4-82d8-377f0abffa41"
      },
      "source": [
        "x, y = oxflower17.load_data()\n",
        "\n",
        "#Split train and test data\n",
        "x_train, x_test, y_train, y_test = train_test_split(x, y, test_size=0.2, shuffle = True)\n",
        "\n",
        "#x, y , dataset_info = tfds.load('oxflower17', with_info=True, as_supervised=True)\n",
        "#pre-processing and data augmentation\n",
        "img_gen = ImageDataGenerator(\n",
        "    rescale=1./255,\n",
        "    shear_range=0.2,\n",
        "    zoom_range=0.2,\n",
        "    horizontal_flip=True\n",
        "    )"
      ],
      "execution_count": 6,
      "outputs": [
        {
          "output_type": "stream",
          "text": [
            "Downloading Oxford 17 category Flower Dataset, Please wait...\n"
          ],
          "name": "stdout"
        },
        {
          "output_type": "stream",
          "text": [
            "100.0% 60276736 / 60270631\n"
          ],
          "name": "stderr"
        },
        {
          "output_type": "stream",
          "text": [
            "Succesfully downloaded 17flowers.tgz 60270631 bytes.\n",
            "File Extracted\n",
            "Starting to parse images...\n",
            "Parsing Done!\n"
          ],
          "name": "stdout"
        }
      ]
    },
    {
      "cell_type": "markdown",
      "metadata": {
        "id": "n5GHj_yld0Br"
      },
      "source": [
        ""
      ]
    },
    {
      "cell_type": "markdown",
      "metadata": {
        "id": "ZGFV0MZnNS6O"
      },
      "source": [
        "#Mount google drive"
      ]
    },
    {
      "cell_type": "code",
      "metadata": {
        "id": "WC3nZ7tYNSGk",
        "colab": {
          "base_uri": "https://localhost:8080/",
          "height": 35
        },
        "outputId": "03df7ddc-7c8b-49bf-fed4-a68516d7dc84"
      },
      "source": [
        "\"\"\"\n",
        "from google.colab import drive\n",
        "drive.mount(\"/content/drive\", force_remount=True)\n",
        "\"\"\""
      ],
      "execution_count": 6,
      "outputs": [
        {
          "output_type": "execute_result",
          "data": {
            "application/vnd.google.colaboratory.intrinsic+json": {
              "type": "string"
            },
            "text/plain": [
              "'\\nfrom google.colab import drive\\ndrive.mount(\"/content/drive\", force_remount=True)\\n'"
            ]
          },
          "metadata": {},
          "execution_count": 6
        }
      ]
    },
    {
      "cell_type": "code",
      "metadata": {
        "colab": {
          "base_uri": "https://localhost:8080/"
        },
        "id": "7L0NCQmUgeLn",
        "outputId": "fa97800a-31c6-438f-c471-bf87806c3a7e"
      },
      "source": [
        "\n",
        "\n",
        "# taken from https://colab.research.google.com/github/the-deep-learners/deep-learning-illustrated/blob/master/notebooks/alexnet_in_keras.ipynb#scrollTo=dOidSBLdgIcj\n",
        "model = models.Sequential()\n",
        "#model.add(layers.experimental.preprocessing.Resizing(224, 224, interpolation=\"bilinear\", input_shape=x_train.shape[1:]))\n",
        "\n",
        "model.add(layers.Conv2D(96, kernel_size=(11, 11), strides=(4, 4), activation='relu', input_shape=(224, 224, 3)))\n",
        "model.add(layers.MaxPooling2D(pool_size=(3, 3), strides=(2, 2)))\n",
        "model.add(layers.BatchNormalization())\n",
        "#model.add(layers.Dropout(0.4))\n",
        "model.add(layers.Conv2D(256, kernel_size=(5, 5), activation='relu'))\n",
        "#model.add(layers.Conv2D(32, kernel_size=(5, 5), activation='relu'))\n",
        "\n",
        "model.add(layers.MaxPooling2D(pool_size=(3, 3), strides=(2, 2)))\n",
        "\n",
        "model.add(layers.BatchNormalization())\n",
        "#model.add(layers.Dropout(0.4))\n",
        "\n",
        "model.add(layers.Conv2D(256, kernel_size=(3, 3), activation='relu'))\n",
        "model.add(layers.Dropout(0.4))\n",
        "model.add(layers.Conv2D(384, kernel_size=(3, 3), activation='relu'))\n",
        "model.add(layers.Dropout(0.4))\n",
        "model.add(layers.Conv2D(384, kernel_size=(3, 3), activation='relu'))\n",
        "model.add(layers.MaxPooling2D(pool_size=(3, 3), strides=(2, 2)))\n",
        "\n",
        "model.add(layers.BatchNormalization())\n",
        "#model.add(layers.Dropout(0.4))\n",
        "model.add(layers.Flatten())\n",
        "model.add(layers.Dense(4096, activation='relu'))\n",
        "model.add(layers.BatchNormalization())\n",
        "#model.add(layers.Dropout(0.4))\n",
        "model.add(layers.Dense(4096, activation='relu'))\n",
        "#model.add(layers.Dropout(0.4))\n",
        "model.add(layers.BatchNormalization())\n",
        "\n",
        "model.add(layers.Dense(17, activation='softmax'))\n",
        "#model.add(layers.Dense(102, activation='softmax'))\n",
        "model.summary()\n",
        "\n",
        "\n"
      ],
      "execution_count": 14,
      "outputs": [
        {
          "output_type": "stream",
          "text": [
            "Model: \"sequential_3\"\n",
            "_________________________________________________________________\n",
            "Layer (type)                 Output Shape              Param #   \n",
            "=================================================================\n",
            "conv2d_12 (Conv2D)           (None, 54, 54, 96)        34944     \n",
            "_________________________________________________________________\n",
            "max_pooling2d_6 (MaxPooling2 (None, 26, 26, 96)        0         \n",
            "_________________________________________________________________\n",
            "batch_normalization_6 (Batch (None, 26, 26, 96)        384       \n",
            "_________________________________________________________________\n",
            "conv2d_13 (Conv2D)           (None, 22, 22, 256)       614656    \n",
            "_________________________________________________________________\n",
            "max_pooling2d_7 (MaxPooling2 (None, 10, 10, 256)       0         \n",
            "_________________________________________________________________\n",
            "batch_normalization_7 (Batch (None, 10, 10, 256)       1024      \n",
            "_________________________________________________________________\n",
            "conv2d_14 (Conv2D)           (None, 8, 8, 256)         590080    \n",
            "_________________________________________________________________\n",
            "dropout_4 (Dropout)          (None, 8, 8, 256)         0         \n",
            "_________________________________________________________________\n",
            "conv2d_15 (Conv2D)           (None, 6, 6, 384)         885120    \n",
            "_________________________________________________________________\n",
            "dropout_5 (Dropout)          (None, 6, 6, 384)         0         \n",
            "_________________________________________________________________\n",
            "conv2d_16 (Conv2D)           (None, 4, 4, 384)         1327488   \n",
            "_________________________________________________________________\n",
            "max_pooling2d_8 (MaxPooling2 (None, 1, 1, 384)         0         \n",
            "_________________________________________________________________\n",
            "batch_normalization_8 (Batch (None, 1, 1, 384)         1536      \n",
            "_________________________________________________________________\n",
            "flatten_2 (Flatten)          (None, 384)               0         \n",
            "_________________________________________________________________\n",
            "dense_6 (Dense)              (None, 4096)              1576960   \n",
            "_________________________________________________________________\n",
            "batch_normalization_9 (Batch (None, 4096)              16384     \n",
            "_________________________________________________________________\n",
            "dense_7 (Dense)              (None, 4096)              16781312  \n",
            "_________________________________________________________________\n",
            "batch_normalization_10 (Batc (None, 4096)              16384     \n",
            "_________________________________________________________________\n",
            "dense_8 (Dense)              (None, 17)                69649     \n",
            "=================================================================\n",
            "Total params: 21,915,921\n",
            "Trainable params: 21,898,065\n",
            "Non-trainable params: 17,856\n",
            "_________________________________________________________________\n"
          ],
          "name": "stdout"
        }
      ]
    },
    {
      "cell_type": "code",
      "metadata": {
        "id": "8znNvPDicJB0"
      },
      "source": [
        "model.compile(optimizer='adam', loss=losses.sparse_categorical_crossentropy, metrics=['accuracy'])"
      ],
      "execution_count": 15,
      "outputs": []
    },
    {
      "cell_type": "markdown",
      "metadata": {
        "id": "zBpurmlXvCRk"
      },
      "source": [
        "#Train model\n",
        "\n"
      ]
    },
    {
      "cell_type": "code",
      "metadata": {
        "colab": {
          "base_uri": "https://localhost:8080/"
        },
        "id": "Axu-2K0lcNZB",
        "outputId": "4b2c8d88-b1bc-4fbc-8b44-592c4fb22f51"
      },
      "source": [
        "#Without data augmentation\n",
        "history = model.fit(x_train, y_train, batch_size=64, epochs=25, validation_data=(x_test, y_test))\n",
        "\n",
        "#for data augmentation\n",
        "#history = model.fit_generator(img_gen.flow(x_train*255, y_train, batch_size = 64),\n",
        "#                                      steps_per_epoch = len(x_train)/64, validation_data = (x_test,y_test), epochs = 25)"
      ],
      "execution_count": 16,
      "outputs": [
        {
          "output_type": "stream",
          "text": [
            "Train on 1088 samples, validate on 272 samples\n",
            "Epoch 1/25\n",
            "1088/1088 [==============================] - ETA: 0s - loss: 5.9703 - acc: 0.2325"
          ],
          "name": "stdout"
        },
        {
          "output_type": "stream",
          "text": [
            "/usr/local/lib/python3.7/dist-packages/keras/engine/training.py:2470: UserWarning: `Model.state_updates` will be removed in a future version. This property should not be used in TensorFlow 2.0, as `updates` are applied automatically.\n",
            "  warnings.warn('`Model.state_updates` will be removed in a future version. '\n"
          ],
          "name": "stderr"
        },
        {
          "output_type": "stream",
          "text": [
            "1088/1088 [==============================] - 4s 3ms/sample - loss: 5.9703 - acc: 0.2325 - val_loss: 21.3060 - val_acc: 0.1066\n",
            "Epoch 2/25\n",
            "1088/1088 [==============================] - 2s 2ms/sample - loss: 2.3001 - acc: 0.3640 - val_loss: 12.0112 - val_acc: 0.0625\n",
            "Epoch 3/25\n",
            "1088/1088 [==============================] - 2s 2ms/sample - loss: 2.0371 - acc: 0.3998 - val_loss: 5.3078 - val_acc: 0.0846\n",
            "Epoch 4/25\n",
            "1088/1088 [==============================] - 2s 2ms/sample - loss: 1.8926 - acc: 0.4412 - val_loss: 3.1827 - val_acc: 0.1581\n",
            "Epoch 5/25\n",
            "1088/1088 [==============================] - 2s 2ms/sample - loss: 1.6996 - acc: 0.4715 - val_loss: 2.8384 - val_acc: 0.1618\n",
            "Epoch 6/25\n",
            "1088/1088 [==============================] - 2s 2ms/sample - loss: 1.6704 - acc: 0.4991 - val_loss: 2.9858 - val_acc: 0.1397\n",
            "Epoch 7/25\n",
            "1088/1088 [==============================] - 2s 2ms/sample - loss: 1.4811 - acc: 0.5248 - val_loss: 3.9487 - val_acc: 0.1434\n",
            "Epoch 8/25\n",
            "1088/1088 [==============================] - 2s 2ms/sample - loss: 1.4414 - acc: 0.5331 - val_loss: 3.4182 - val_acc: 0.1360\n",
            "Epoch 9/25\n",
            "1088/1088 [==============================] - 2s 2ms/sample - loss: 1.4327 - acc: 0.5607 - val_loss: 3.1499 - val_acc: 0.1544\n",
            "Epoch 10/25\n",
            "1088/1088 [==============================] - 2s 2ms/sample - loss: 1.2237 - acc: 0.5983 - val_loss: 3.3796 - val_acc: 0.1691\n",
            "Epoch 11/25\n",
            "1088/1088 [==============================] - 2s 2ms/sample - loss: 1.2244 - acc: 0.6112 - val_loss: 3.6244 - val_acc: 0.1397\n",
            "Epoch 12/25\n",
            "1088/1088 [==============================] - 2s 2ms/sample - loss: 1.2058 - acc: 0.6314 - val_loss: 2.9339 - val_acc: 0.2243\n",
            "Epoch 13/25\n",
            "1088/1088 [==============================] - 2s 2ms/sample - loss: 1.1245 - acc: 0.6415 - val_loss: 3.4827 - val_acc: 0.1654\n",
            "Epoch 14/25\n",
            "1088/1088 [==============================] - 2s 2ms/sample - loss: 1.0857 - acc: 0.6783 - val_loss: 3.0682 - val_acc: 0.2096\n",
            "Epoch 15/25\n",
            "1088/1088 [==============================] - 2s 2ms/sample - loss: 1.0218 - acc: 0.6737 - val_loss: 3.3030 - val_acc: 0.2059\n",
            "Epoch 16/25\n",
            "1088/1088 [==============================] - 2s 2ms/sample - loss: 1.0517 - acc: 0.6590 - val_loss: 3.5178 - val_acc: 0.2941\n",
            "Epoch 17/25\n",
            "1088/1088 [==============================] - 2s 2ms/sample - loss: 1.0339 - acc: 0.6930 - val_loss: 2.3530 - val_acc: 0.3824\n",
            "Epoch 18/25\n",
            "1088/1088 [==============================] - 2s 2ms/sample - loss: 0.9331 - acc: 0.6958 - val_loss: 3.0741 - val_acc: 0.2757\n",
            "Epoch 19/25\n",
            "1088/1088 [==============================] - 2s 2ms/sample - loss: 0.8839 - acc: 0.7077 - val_loss: 2.9727 - val_acc: 0.3640\n",
            "Epoch 20/25\n",
            "1088/1088 [==============================] - 2s 2ms/sample - loss: 0.7792 - acc: 0.7528 - val_loss: 3.0520 - val_acc: 0.4265\n",
            "Epoch 21/25\n",
            "1088/1088 [==============================] - 2s 2ms/sample - loss: 0.6831 - acc: 0.7840 - val_loss: 5.1131 - val_acc: 0.2684\n",
            "Epoch 22/25\n",
            "1088/1088 [==============================] - 2s 2ms/sample - loss: 0.6802 - acc: 0.7886 - val_loss: 3.5580 - val_acc: 0.3603\n",
            "Epoch 23/25\n",
            "1088/1088 [==============================] - 2s 2ms/sample - loss: 0.8895 - acc: 0.7482 - val_loss: 3.4986 - val_acc: 0.3787\n",
            "Epoch 24/25\n",
            "1088/1088 [==============================] - 2s 2ms/sample - loss: 0.8907 - acc: 0.7436 - val_loss: 5.1665 - val_acc: 0.3971\n",
            "Epoch 25/25\n",
            "1088/1088 [==============================] - 2s 2ms/sample - loss: 0.7741 - acc: 0.7564 - val_loss: 3.1880 - val_acc: 0.4301\n"
          ],
          "name": "stdout"
        }
      ]
    },
    {
      "cell_type": "code",
      "metadata": {
        "id": "6XpShvB1mdhT",
        "colab": {
          "base_uri": "https://localhost:8080/",
          "height": 457
        },
        "outputId": "5efbe106-7464-4e4a-e8dc-077eea5a309c"
      },
      "source": [
        "fig, axs = plt.subplots(1, 2, figsize=(15,7))\n",
        "\n",
        "axs[0].plot(history.history['loss'])\n",
        "axs[0].plot(history.history['val_loss'])\n",
        "axs[0].title.set_text('Training Loss vs Validation Loss')\n",
        "axs[0].set_xlabel('Epochs')\n",
        "axs[0].set_ylabel('Loss')\n",
        "#axs[0].legend(['Train', 'Validation'])\n",
        "axs[0].legend(['Train', 'Test'])\n",
        "\n",
        "axs[1].plot(history.history['acc'])\n",
        "axs[1].plot(history.history['val_acc'])\n",
        "axs[1].title.set_text('Training Accuracy vs Validation Accuracy')\n",
        "axs[1].set_xlabel('Epochs')\n",
        "axs[1].set_ylabel('Accuracy')\n",
        "#axs[1].legend(['Train', 'Validation'])\n",
        "axs[1].legend(['Train', 'Test'])\n",
        "\n",
        "#images_dir = '/content/drive/MyDrive/Deep learning project files/results 17 category/adam base model'\n",
        "\n",
        "#images_dir = '/content/drive/MyDrive/Deep learning project files/results 17 category/dropout fully layers'\n",
        "#images_dir = '/content/drive/MyDrive/Deep learning project files/results 17 category/dropout conv layers'\n",
        "#images_dir = '/content/drive/MyDrive/Deep learning project files/results 17 category/dropout all layers'\n",
        "#images_dir = '/content/drive/MyDrive/Deep learning project files/results 17 category/batchnorm'\n",
        "#images_dir = '/content/drive/MyDrive/Deep learning project files/results 17 category/data augmentation'\n",
        "images_dir = '/content/drive/MyDrive/Deep learning project files/results 17 category/data augmentation with dropout'\n",
        "#plt.savefig(f\"{images_dir}/training plots_test_label.pdf\")\n",
        "#plt.savefig(f\"{images_dir}/training plots.pdf\")\n",
        "\n"
      ],
      "execution_count": 17,
      "outputs": [
        {
          "output_type": "display_data",
          "data": {
            "image/png": "[encoded data removed]",
            "text/plain": [
              "<Figure size 1080x504 with 2 Axes>"
            ]
          },
          "metadata": {
            "needs_background": "light"
          }
        }
      ]
    },
    {
      "cell_type": "code",
      "metadata": {
        "colab": {
          "base_uri": "https://localhost:8080/"
        },
        "id": "r6b-q2TDmdjn",
        "outputId": "dd07a039-f482-47aa-8563-51532c77e676"
      },
      "source": [
        "model.evaluate(x_test, y_test)"
      ],
      "execution_count": 18,
      "outputs": [
        {
          "output_type": "execute_result",
          "data": {
            "text/plain": [
              "[3.187962812535903, 0.43014705]"
            ]
          },
          "metadata": {},
          "execution_count": 18
        }
      ]
    }
  ]
}